{
 "cells": [
  {
   "cell_type": "markdown",
   "id": "5586cf2c-c3c2-4a4a-9f54-800403651b6e",
   "metadata": {},
   "source": [
    "The following code has been adapted from https://github.com/computervisioneng/emotion-recognition-python-scikit-learn-mediapipe/tree/main."
   ]
  },
  {
   "cell_type": "code",
   "execution_count": 18,
   "id": "fd312214-1d01-4cd2-8477-c6ba66ea34fd",
   "metadata": {},
   "outputs": [],
   "source": [
    "import os\n",
    "import cv2\n",
    "import numpy as np\n",
    "from sklearn.model_selection import train_test_split\n",
    "from sklearn.ensemble import RandomForestClassifier\n",
    "from sklearn.tree import DecisionTreeClassifier\n",
    "from sklearn.metrics import accuracy_score, confusion_matrix\n",
    "from sklearn.neural_network import MLPClassifier\n",
    "from sklearn.model_selection import GridSearchCV\n",
    "from sklearn.svm import SVC\n",
    "import mediapipe as mp\n",
    "import pickle\n",
    "import pandas as pd\n",
    "from sklearn.naive_bayes import GaussianNB"
   ]
  },
  {
   "cell_type": "code",
   "execution_count": 9,
   "id": "c0954293-7b42-4beb-ad97-4650e136dc07",
   "metadata": {},
   "outputs": [],
   "source": [
    "# Grabs important facial features from the image\n",
    "\n",
    "def get_facial_features(image, draw=False, static_image_mode=True):\n",
    "\n",
    "    # Read the input image\n",
    "    image_input_rgb = cv2.cvtColor(image, cv2.COLOR_BGR2RGB)\n",
    "\n",
    "    # Extracts 3D face landmarks from the image by using machine learning to infer the 3D facial surface\n",
    "    face_mesh = mp.solutions.face_mesh.FaceMesh(static_image_mode=static_image_mode,\n",
    "                                                max_num_faces=1,\n",
    "                                                min_detection_confidence=0.5)\n",
    "    image_rows, image_cols, _ = image.shape\n",
    "    results = face_mesh.process(image_input_rgb)\n",
    "\n",
    "    image_landmarks = []\n",
    "\n",
    "    if results.multi_face_landmarks:\n",
    "\n",
    "        if draw:\n",
    "\n",
    "            mp_drawing = mp.solutions.drawing_utils\n",
    "            mp_drawing_styles = mp.solutions.drawing_styles\n",
    "            drawing_spec = mp_drawing.DrawingSpec(thickness=2, circle_radius=1)\n",
    "\n",
    "            mp_drawing.draw_landmarks(\n",
    "                image=image,\n",
    "                landmark_list=results.multi_face_landmarks[0],\n",
    "                connections=mp.solutions.face_mesh.FACEMESH_CONTOURS,\n",
    "                landmark_drawing_spec=drawing_spec,\n",
    "                connection_drawing_spec=drawing_spec)\n",
    "\n",
    "        ls_single_face = results.multi_face_landmarks[0].landmark\n",
    "        xs_ = []\n",
    "        ys_ = []\n",
    "        zs_ = []\n",
    "        for idx in ls_single_face:\n",
    "            xs_.append(idx.x)\n",
    "            ys_.append(idx.y)\n",
    "            zs_.append(idx.z)\n",
    "        for j in range(len(xs_)):\n",
    "            image_landmarks.append(xs_[j] - min(xs_))\n",
    "            image_landmarks.append(ys_[j] - min(ys_))\n",
    "            image_landmarks.append(zs_[j] - min(zs_))\n",
    "    return image_landmarks"
   ]
  },
  {
   "cell_type": "code",
   "execution_count": 10,
   "id": "5793ee0d-6908-46c6-bff2-b2fbc7c55198",
   "metadata": {},
   "outputs": [
    {
     "name": "stdout",
     "output_type": "stream",
     "text": [
      "Data has been loaded and saved in data.txt.\n"
     ]
    }
   ],
   "source": [
    "# Loads the data\n",
    "\n",
    "data_directory = \"./Emotion-Faces\"\n",
    "\n",
    "output = []\n",
    "for emotion_index, emotion in enumerate(sorted(os.listdir(data_directory))):\n",
    "    for directory_image_path in os.listdir(os.path.join(data_directory, emotion)):\n",
    "        image_path = os.path.join(data_directory, emotion, directory_image_path)\n",
    "        image = cv2.imread(image_path)\n",
    "        facial_features = get_facial_features(image)\n",
    "        if len(facial_features) == 1404:\n",
    "            facial_features.append(int(emotion_index))\n",
    "            output.append(facial_features)\n",
    "\n",
    "np.savetxt('data.txt', np.asarray(output))\n",
    "print(\"Data has been loaded and saved in data.txt.\")"
   ]
  },
  {
   "cell_type": "code",
   "execution_count": 11,
   "id": "abed5e20-3600-4d63-9f56-e71569dee581",
   "metadata": {},
   "outputs": [],
   "source": [
    "# Train the model on the data\n",
    "\n",
    "# Load data\n",
    "data_file = \"data.txt\"\n",
    "data = np.loadtxt(data_file)\n",
    "\n",
    "# Split data into features (X) and labels (Y)\n",
    "x = data[:, :-1]\n",
    "y = data[:, -1]\n",
    "\n",
    "# Split X and Y into training and testing sets.\n",
    "x_train, x_test, y_train, y_test = train_test_split(x, y, test_size=0.2, random_state=42, shuffle=True, stratify=y)"
   ]
  },
  {
   "cell_type": "markdown",
   "id": "0e2d7ddf-90c3-4f12-81f4-0a93946ff93d",
   "metadata": {},
   "source": [
    "The Multilayer Classifier (MLP) has the best results on identifying emotion, as shown below. "
   ]
  },
  {
   "cell_type": "code",
   "execution_count": 12,
   "id": "88c5d43d-d71f-4439-9fa3-00a283daec74",
   "metadata": {},
   "outputs": [
    {
     "name": "stdout",
     "output_type": "stream",
     "text": [
      "Accuracy: 67.14%\n",
      "Confusion Matrix:\n",
      "           Anger  Disgust  Fear  Happiness  Neutral  Sadness  Surprise\n",
      "Anger          7        0     1          1        1        0         0\n",
      "Disgust        2        5     0          2        0        1         0\n",
      "Fear           0        0     6          2        0        0         2\n",
      "Happiness      0        0     0         10        0        0         0\n",
      "Neutral        0        1     0          0        8        1         0\n",
      "Sadness        0        1     0          0        7        2         0\n",
      "Surprise       1        0     0          0        0        0         9\n"
     ]
    }
   ],
   "source": [
    "# Initialize and train the Multilayer Perceptron Classifier\n",
    "\n",
    "# Stats\n",
    "\n",
    "# All Emotions: Anger, Disgust, Fear, Happy, Neural Sad, Surprise\n",
    "\n",
    "# Success rate on all emotions: 67.14%\n",
    "\n",
    "# Success rate on Anger, Happy, Neutral, and Sad: 85%\n",
    "\n",
    "mlp_classifier = MLPClassifier(max_iter=1000, random_state=4)\n",
    "\n",
    "# Train the classifier on the training data\n",
    "mlp_classifier.fit(x_train, y_train)\n",
    "\n",
    "# Saves the model\n",
    "with open('./facial-emotion-model', 'wb') as f:\n",
    "    pickle.dump(mlp_classifier, f)\n",
    "\n",
    "# To open the model:\n",
    "# with open('./facial-emotion-model', 'rb') as f:\n",
    "#     model = pickle.load(f)\n",
    "\n",
    "# Evaluate the accuracy of the model\n",
    "y_predict = mlp_classifier.predict(x_test)\n",
    "accuracy = accuracy_score(y_test, y_predict)\n",
    "print(f\"Accuracy: {accuracy * 100:.2f}%\")\n",
    "\n",
    "# Print confusion matrix\n",
    "labels = ['Anger', 'Disgust', 'Fear', 'Happiness', 'Neutral', 'Sadness', 'Surprise']\n",
    "cm = confusion_matrix(y_test, y_predict)\n",
    "cm_df = pd.DataFrame(cm, index=labels, columns=labels)\n",
    "print(\"Confusion Matrix:\")\n",
    "print(cm_df)"
   ]
  },
  {
   "cell_type": "code",
   "execution_count": 13,
   "id": "31558768-88f6-4c28-82f1-3b88d56d9197",
   "metadata": {},
   "outputs": [
    {
     "name": "stdout",
     "output_type": "stream",
     "text": [
      "Best Accuracy: 0.6714285714285714\n",
      "Best State: 0\n"
     ]
    }
   ],
   "source": [
    "# Find best random state for MLP\n",
    "\n",
    "max_accuracy = 0\n",
    "best_state = 1\n",
    "\n",
    "for i in range(100):\n",
    "    mlp_classifier = MLPClassifier(max_iter=1000, random_state=4) # 4 is 85\n",
    "    \n",
    "    # Train the classifier on the training data\n",
    "    mlp_classifier.fit(x_train, y_train)\n",
    "    \n",
    "    # Evaluate the accuracy of the model\n",
    "    y_predict = mlp_classifier.predict(x_test)\n",
    "    accuracy = accuracy_score(y_test, y_predict)\n",
    "\n",
    "    if accuracy > max_accuracy:\n",
    "        max_accuracy = accuracy\n",
    "        best_state = i\n",
    "\n",
    "print(\"Best Accuracy:\", max_accuracy)\n",
    "print(\"Best State:\", best_state)"
   ]
  },
  {
   "cell_type": "markdown",
   "id": "93510bb9-108b-4294-9d78-f9386fade7da",
   "metadata": {},
   "source": [
    "The following classifiers were used for testing purposes to see if it exceeded the performance of MLP, which they did not."
   ]
  },
  {
   "cell_type": "code",
   "execution_count": 22,
   "id": "3cd90b29-430f-4a76-a8e0-ee503ea249a1",
   "metadata": {},
   "outputs": [
    {
     "name": "stdout",
     "output_type": "stream",
     "text": [
      "Accuracy: 58.57%\n"
     ]
    }
   ],
   "source": [
    "# Initialize the Random Forest Classifier\n",
    "rf_classifier = RandomForestClassifier()\n",
    "\n",
    "# Train the classifier on the training data\n",
    "rf_classifier.fit(x_train, y_train)\n",
    "\n",
    "# Evaluate the accuracy of the model\n",
    "y_predict = rf_classifier.predict(x_test)\n",
    "accuracy = accuracy_score(y_test, y_predict)\n",
    "print(f\"Accuracy: {accuracy * 100:.2f}%\")"
   ]
  },
  {
   "cell_type": "code",
   "execution_count": 23,
   "id": "92d35b60-ac4d-494d-95ba-08a87b8e6e10",
   "metadata": {},
   "outputs": [
    {
     "name": "stdout",
     "output_type": "stream",
     "text": [
      "Accuracy: 51.43%\n"
     ]
    }
   ],
   "source": [
    "# Initialize the Decision Tree Classifier\n",
    "dt_classifier = DecisionTreeClassifier()\n",
    "\n",
    "# Train the classifier on the training data\n",
    "dt_classifier.fit(x_train, y_train)\n",
    "\n",
    "# Evaluate the accuracy of the model\n",
    "y_predict = dt_classifier.predict(x_test)\n",
    "accuracy = accuracy_score(y_test, y_predict)\n",
    "print(f\"Accuracy: {accuracy * 100:.2f}%\")"
   ]
  },
  {
   "cell_type": "code",
   "execution_count": 24,
   "id": "0b06bdd6-ed82-42fa-b1c0-6f0a1667a34e",
   "metadata": {},
   "outputs": [
    {
     "name": "stdout",
     "output_type": "stream",
     "text": [
      "Accuracy: 42.86%\n"
     ]
    }
   ],
   "source": [
    "# Initialize the Support Vector Classifier (SVC)\n",
    "svm_classifier = SVC()\n",
    "\n",
    "# Train the classifier on the training data\n",
    "svm_classifier.fit(x_train, y_train)\n",
    "\n",
    "# Evaluate the accuracy of the model\n",
    "y_predict = svm_classifier.predict(x_test)\n",
    "accuracy = accuracy_score(y_test, y_predict)\n",
    "print(f\"Accuracy: {accuracy * 100:.2f}%\")"
   ]
  },
  {
   "cell_type": "code",
   "execution_count": 25,
   "id": "8a2492f3-e8da-4559-8381-ffd3aaa9733e",
   "metadata": {},
   "outputs": [
    {
     "name": "stdout",
     "output_type": "stream",
     "text": [
      "Accuracy: 42.86%\n"
     ]
    }
   ],
   "source": [
    "# Initialize the Gaussian Naive Bayes\n",
    "gnb_classifier = GaussianNB()\n",
    "\n",
    "# Train the classifier on the training data\n",
    "gnb_classifier.fit(x_train, y_train)\n",
    "\n",
    "# Evaluate the accuracy of the model\n",
    "y_predict = gnb_classifier.predict(x_test)\n",
    "accuracy = accuracy_score(y_test, y_predict)\n",
    "print(f\"Accuracy: {accuracy * 100:.2f}%\")"
   ]
  }
 ],
 "metadata": {
  "kernelspec": {
   "display_name": "Python 3 (ipykernel)",
   "language": "python",
   "name": "python3"
  },
  "language_info": {
   "codemirror_mode": {
    "name": "ipython",
    "version": 3
   },
   "file_extension": ".py",
   "mimetype": "text/x-python",
   "name": "python",
   "nbconvert_exporter": "python",
   "pygments_lexer": "ipython3",
   "version": "3.12.8"
  }
 },
 "nbformat": 4,
 "nbformat_minor": 5
}
